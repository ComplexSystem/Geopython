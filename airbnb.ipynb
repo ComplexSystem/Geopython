{
 "cells": [
  {
   "cell_type": "markdown",
   "metadata": {},
   "source": [
    "## Plotting AirBnB Availability in London"
   ]
  },
  {
   "cell_type": "markdown",
   "metadata": {},
   "source": [
    "In this workbook, we're going to display data about AirBnB rental availability in London, contrasted with Index of Multiple Deprivation (2015), Barriers to Housing and Services data.\n",
    "\n",
    "The IMD data are [available](https://data.london.gov.uk/dataset/indices-of-deprivation-2015) from the London Datastore, at the [LSOA](http://www.datadictionary.nhs.uk/data_dictionary/nhs_business_definitions/l/lower_layer_super_output_area_de.asp?shownav=1) level. A [refresher](http://www.datadictionary.nhs.uk/data_dictionary/nhs_business_definitions/l/lower_layer_super_output_area_de.asp?shownav=1):\n",
    "\n",
    ">Lower Layer Super Output Areas are built from groups of contiguous Output Areas and have been automatically generated to be as consistent in population size as possible, and typically contain from four to six Output Areas. The minimum population is 1000 and the mean is 1500.\n",
    "\n",
    "The AirBnB data have been processed into a Shapefile by converting the original coordinates to `Point` types, before building a `GeoDataFrame` and assigning the `OSGB36` crs."
   ]
  },
  {
   "cell_type": "code",
   "execution_count": 1,
   "metadata": {},
   "outputs": [
    {
     "name": "stderr",
     "output_type": "stream",
     "text": [
      "/Users/sth/dev/ocrtest/venv/lib/python3.6/site-packages/matplotlib/__init__.py:800: MatplotlibDeprecationWarning: axes.color_cycle is deprecated and replaced with axes.prop_cycle; please use the latter.\n",
      "  mplDeprecation)\n"
     ]
    }
   ],
   "source": [
    "import shapely\n",
    "import pandas as pd\n",
    "import geopandas as gp\n",
    "from shapely.geometry import Point\n",
    "\n",
    "import matplotlib.pyplot as plt\n",
    "from matplotlib.colors import to_rgba\n",
    "from matplotlib.ticker import FormatStrFormatter\n",
    "from matplotlib.offsetbox import AnchoredOffsetbox, TextArea, HPacker, VPacker\n",
    "from mpl_toolkits.axes_grid1.inset_locator import inset_axes\n",
    "%matplotlib inline\n",
    "\n",
    "import pysal as ps\n",
    "import numpy as np"
   ]
  },
  {
   "cell_type": "markdown",
   "metadata": {},
   "source": [
    "These are styling options. Omit them or alter them to suit."
   ]
  },
  {
   "cell_type": "code",
   "execution_count": 2,
   "metadata": {
    "collapsed": true
   },
   "outputs": [],
   "source": [
    "from matplotlib import rc\n",
    "rc('font', **{'family':'sans-serif',\n",
    "    'sans-serif':['Helvetica'],\n",
    "    'monospace': ['Inconsolata'],\n",
    "    'serif': ['Adobe Garamamond Pro']}\n",
    "  )"
   ]
  },
  {
   "cell_type": "markdown",
   "metadata": {},
   "source": [
    "Use LaTeX for styling. Omit this if you like."
   ]
  },
  {
   "cell_type": "code",
   "execution_count": 3,
   "metadata": {
    "collapsed": true
   },
   "outputs": [],
   "source": [
    "rc('text', **{'usetex': True})\n",
    "rc('text', **{'latex.preamble': '\\\\usepackage{sfmath}'})"
   ]
  },
  {
   "cell_type": "markdown",
   "metadata": {},
   "source": [
    "We're going to load processed rental data which originally came from [Inside Airbnb](http://insideairbnb.com)  \n",
    "We're also going to load some Borough overlays, and Index of Multiple Deprivation (IMD) data"
   ]
  },
  {
   "cell_type": "code",
   "execution_count": 6,
   "metadata": {
    "collapsed": true
   },
   "outputs": [],
   "source": [
    "abb_gdf = gp.read_file(\"data/listings\")\n",
    "imd_gdf = gp.read_file(\"data/imd_joined\")\n",
    "boroughs_gdf = gp.read_file(\"data/neighbourhoods.geojson\")"
   ]
  },
  {
   "cell_type": "markdown",
   "metadata": {},
   "source": [
    "Perform a spatial join of AirBnB rentals (left) to LSOAs (right)"
   ]
  },
  {
   "cell_type": "code",
   "execution_count": 7,
   "metadata": {
    "collapsed": true
   },
   "outputs": [],
   "source": [
    "merged = gp.tools.sjoin(\n",
    "    abb_gdf, imd_gdf, \n",
    "    how=\"inner\",\n",
    ")"
   ]
  },
  {
   "cell_type": "markdown",
   "metadata": {},
   "source": [
    "Now merge aggregated (counted) rentals to LSOA polygon rows"
   ]
  },
  {
   "cell_type": "code",
   "execution_count": 8,
   "metadata": {
    "collapsed": true
   },
   "outputs": [],
   "source": [
    "imd_gdf = imd_gdf.merge(\n",
    "    merged['LSOA11NM'].value_counts().to_frame(),\n",
    "    how='left',\n",
    "    left_on='LSOA11NM', right_index=True)\n",
    "# rename count column\n",
    "imd_gdf.rename(columns={\"LSOA11NM_y\": 'Rental_Count'}, inplace=True)"
   ]
  },
  {
   "cell_type": "markdown",
   "metadata": {},
   "source": [
    "Create decile bins. Ratio can also be used as a percentage proxy"
   ]
  },
  {
   "cell_type": "code",
   "execution_count": 12,
   "metadata": {
    "collapsed": true
   },
   "outputs": [],
   "source": [
    "imd_gdf['ABB_Ratio'] = imd_gdf['Rental_Count'] / imd_gdf['HHOLDS']\n",
    "q10 = ps.Quantiles(imd_gdf.dropna().ABB_Ratio, k=10)"
   ]
  },
  {
   "cell_type": "markdown",
   "metadata": {},
   "source": [
    "We want to highlight the boroughs containing the 25 LSOAs with the highest ratio of rental availability to households"
   ]
  },
  {
   "cell_type": "code",
   "execution_count": 26,
   "metadata": {},
   "outputs": [],
   "source": [
    "boroughs = imd_gdf.sort_values(by='ABB_Ratio', ascending=False).iloc[:24].LAD11NM.unique()"
   ]
  },
  {
   "cell_type": "markdown",
   "metadata": {},
   "source": [
    "Now, on to the plotting. A lot of rental data are missing, and we're lacking a good model with which to infer these, so I've decided *not* to plot those LSOAs for which we don't know anything."
   ]
  },
  {
   "cell_type": "code",
   "execution_count": null,
   "metadata": {},
   "outputs": [],
   "source": [
    "plt.clf()\n",
    "fig, ax = plt.subplots(\n",
    "    1,\n",
    "    figsize=(16., 12.),\n",
    "    dpi=100,\n",
    "    subplot_kw=dict(aspect='equal'),\n",
    ")\n",
    "\n",
    "# this will plot Fisher Jenks of normalised rental availability\n",
    "base = imd_gdf.dropna().plot(\n",
    "    ax=ax,\n",
    "    alpha=1.,\n",
    "    column='ABB_Ratio',\n",
    "    scheme=\"fisher_jenks\",\n",
    "    k=7,\n",
    "    cmap=\"viridis\",\n",
    "    linewidth=0.1,\n",
    "    edgecolor='black',\n",
    "    legend=True,\n",
    ")\n",
    "\n",
    "\n",
    "# Display boroughs with most AirBnB\n",
    "top = boroughs_gdf.to_crs({'init': 'epsg:27700'}).loc[boroughs_gdf['neighbourhood'].isin(boroughs)].plot(\n",
    "    ax=ax,\n",
    "    linewidth=.5,\n",
    "    color='None',\n",
    "    edgecolor='red'\n",
    ")\n",
    "\n",
    "_ = ax.axis('off')\n",
    "\n",
    "ax.set_title(\"Normalised AirBnB Rental Availability by LSOA, March 2017\", color='#555555')\n",
    "\n",
    "# Display data sources\n",
    "smallprint = ax.text(\n",
    "    .995, 0,\n",
    "    'Classification Method: Fisher Jenks\\nTotal Rental Properties: %s\\nContains National Statistics data\\nContains Ordnance Survey data\\n$\\copyright$ Crown copyright and database right 2012\\nAirBnB data from http://insideairbnb.com' % int(imd_gdf['Rental_Count'].sum()),\n",
    "    ha='right', va='bottom',\n",
    "    size=10,\n",
    "    color='#555555',\n",
    "    transform=ax.transAxes)\n",
    "\n",
    "plt.show()"
   ]
  },
  {
   "cell_type": "markdown",
   "metadata": {},
   "source": [
    "###  Next, we're going to plot the Access to Housing and Services scores of the boroughs with the highest AirBnB rental availability. A lower score means worse access."
   ]
  },
  {
   "cell_type": "markdown",
   "metadata": {},
   "source": [
    "Join boroughs to top AirBnB LSOAs"
   ]
  },
  {
   "cell_type": "code",
   "execution_count": 29,
   "metadata": {
    "collapsed": true
   },
   "outputs": [],
   "source": [
    "lsoa_boroughs = gp.sjoin(\n",
    "    imd_gdf.to_crs({'init': 'epsg:27700'}),\n",
    "    boroughs_gdf.to_crs({'init': 'epsg:27700'}),\n",
    "    how=\"inner\", op='intersects'\n",
    ")"
   ]
  },
  {
   "cell_type": "code",
   "execution_count": null,
   "metadata": {},
   "outputs": [],
   "source": [
    "plt.clf()\n",
    "fig, ax = plt.subplots(\n",
    "    1,\n",
    "    figsize=(16., 12.),\n",
    "    dpi=100,\n",
    "    subplot_kw=dict(aspect='equal'),\n",
    ")\n",
    "\n",
    "lsoa_boroughs.loc[lsoa_boroughs['neighbourhood'].isin(boroughs)].plot(\n",
    "    categorical=True,\n",
    "    ax=ax,\n",
    "    alpha=1.,\n",
    "    column='Hou_Dec',\n",
    "    k=10,\n",
    "    cmap=\"viridis_r\",\n",
    "    linewidth=0.1,\n",
    "    edgecolor='black',\n",
    "    legend=True,   \n",
    ")\n",
    "_ = ax.axis('off')\n",
    "\n",
    "ax.set_title(\"IMD Access to Housing Score, %s Boroughs with Highest AirBnB Availability\" % len(boroughs), color='#555555')\n",
    "\n",
    "smallprint = ax.text(\n",
    "    .995, 0,\n",
    "    'Classification Method: Deciles\\nContains National Statistics data\\nContains Ordnance Survey data\\n$\\copyright$ Crown copyright and database right 2012\\nAirBnB data from http://insideairbnb.com',\n",
    "    ha='right', va='bottom',\n",
    "    size=10,\n",
    "    color='#555555',\n",
    "    transform=ax.transAxes)\n",
    "\n",
    "axins = inset_axes(\n",
    "    ax,\n",
    "    width=\"20%\", # width = % of parent_bbox\n",
    "    height=2.0,\n",
    "    loc=2,\n",
    "    axes_kwargs={'aspect': 'equal', 'facecolor': '#555555'}\n",
    ")\n",
    "\n",
    "inset= imd_gdf.plot(\n",
    "    ax=axins,\n",
    "    color='#555555',\n",
    "    facecolor='#555555',\n",
    "    edgecolor='#555555',\n",
    "    legend=False,\n",
    ")\n",
    "\n",
    "union = boroughs_gdf.loc[boroughs_gdf['neighbourhood'].isin(boroughs)].to_crs({'init': 'epsg:27700'}).unary_union\n",
    "union_gdf = gp.GeoDataFrame(geometry=[union])\n",
    "union_gdf.plot(ax=axins, linewidth=0.3, edgecolor='red', color='none')\n",
    "\n",
    "_ = axins.axis('off')\n",
    "plt.show()"
   ]
  },
  {
   "cell_type": "code",
   "execution_count": null,
   "metadata": {
    "collapsed": true
   },
   "outputs": [],
   "source": []
  }
 ],
 "metadata": {
  "kernelspec": {
   "display_name": "Python 3",
   "language": "python",
   "name": "python3"
  },
  "language_info": {
   "codemirror_mode": {
    "name": "ipython",
    "version": 3
   },
   "file_extension": ".py",
   "mimetype": "text/x-python",
   "name": "python",
   "nbconvert_exporter": "python",
   "pygments_lexer": "ipython3",
   "version": "3.6.1"
  }
 },
 "nbformat": 4,
 "nbformat_minor": 2
}
